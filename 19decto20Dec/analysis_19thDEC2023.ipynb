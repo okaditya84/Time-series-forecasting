{
 "cells": [
  {
   "cell_type": "code",
   "execution_count": 2,
   "metadata": {},
   "outputs": [],
   "source": [
    "import pandas as pd\n",
    "import numpy as np\n",
    "import matplotlib.pyplot as plt\n",
    "import seaborn as sns\n"
   ]
  },
  {
   "cell_type": "markdown",
   "metadata": {},
   "source": [
    "## Reading the extracted data"
   ]
  },
  {
   "cell_type": "code",
   "execution_count": 3,
   "metadata": {},
   "outputs": [
    {
     "name": "stdout",
     "output_type": "stream",
     "text": [
      "          From Date           To Date   PM2.5    PM10     NO    NO2     NOx  \\\n",
      "0  01-01-2017 00:00  01-01-2017 00:30  162.00  227.00  19.52  85.08  102.48   \n",
      "1  01-01-2017 00:30  01-01-2017 01:00  162.00  227.00  51.35  83.50  144.55   \n",
      "2  01-01-2017 01:00  01-01-2017 01:30  162.00  227.00  57.88  87.60  157.08   \n",
      "3  01-01-2017 01:30  01-01-2017 02:00  168.33  225.33  41.17  79.98  127.48   \n",
      "4  01-01-2017 02:00  01-01-2017 02:30  181.00  222.00  60.93  78.53  153.20   \n",
      "\n",
      "      NH3    SO2    CO  ...  Toluene  Temp     RH    WS      WD     SR     BP  \\\n",
      "0   86.52  21.33  1.95  ...    21.20   NaN  71.83  1.28  107.17  12.50  740.0   \n",
      "1  115.87  21.70  1.94  ...    17.70   NaN  71.83  0.57  147.33  12.00  740.0   \n",
      "2  123.35  22.18  2.20  ...    12.50   NaN  73.00  0.70  118.00  12.17  740.0   \n",
      "3  126.48  21.33  2.12  ...    18.65   NaN  73.50  0.32   89.00  12.17  740.0   \n",
      "4  122.20  21.77  2.00  ...    16.65   NaN  74.83  0.95   95.33  12.33  740.0   \n",
      "\n",
      "      AT  RF  TOT-RF  \n",
      "0  14.75 NaN     0.0  \n",
      "1  14.25 NaN     0.0  \n",
      "2  13.98 NaN     0.0  \n",
      "3  13.33 NaN     0.0  \n",
      "4  13.22 NaN     0.0  \n",
      "\n",
      "[5 rows x 22 columns]\n"
     ]
    }
   ],
   "source": [
    "df = pd.read_csv(r'C:\\Aditya\\Research Work\\extracted important\\AshokNagar_extracted.csv')\n",
    "print(df.head())\n"
   ]
  },
  {
   "cell_type": "markdown",
   "metadata": {},
   "source": [
    "# Filtering data for 19th December 2023 for prediction of AQI for 20th December 2023"
   ]
  },
  {
   "cell_type": "code",
   "execution_count": 4,
   "metadata": {},
   "outputs": [],
   "source": [
    "# Convert the 'From Date' column to datetime format\n",
    "df['From Date'] = pd.to_datetime(df['From Date'], format='%d-%m-%Y %H:%M')\n",
    "\n",
    "# Filter the dataframe for rows with 'From Date' equal to 1st January 2024\n",
    "filtered_df = df[df['From Date'].dt.date == pd.to_datetime('2023-12-19').date()]\n",
    "\n",
    "# Save the filtered dataframe to a separate file\n",
    "filtered_df.to_csv('19thDEC.csv', index=False)\n"
   ]
  },
  {
   "cell_type": "code",
   "execution_count": 5,
   "metadata": {},
   "outputs": [],
   "source": [
    "df_new = pd.read_csv('19thDEC.csv')"
   ]
  },
  {
   "cell_type": "markdown",
   "metadata": {},
   "source": [
    "### Keeping only those columns whose significane in AQI is known and best for prediction"
   ]
  },
  {
   "cell_type": "code",
   "execution_count": 6,
   "metadata": {},
   "outputs": [],
   "source": [
    "columns_to_keep = ['From Date','PM2.5', 'PM10', 'NO2', 'SO2', 'CO', 'Ozone','NH3']\n",
    "df_new = df_new[columns_to_keep]\n"
   ]
  },
  {
   "cell_type": "code",
   "execution_count": 7,
   "metadata": {},
   "outputs": [
    {
     "data": {
      "text/html": [
       "<div>\n",
       "<style scoped>\n",
       "    .dataframe tbody tr th:only-of-type {\n",
       "        vertical-align: middle;\n",
       "    }\n",
       "\n",
       "    .dataframe tbody tr th {\n",
       "        vertical-align: top;\n",
       "    }\n",
       "\n",
       "    .dataframe thead th {\n",
       "        text-align: right;\n",
       "    }\n",
       "</style>\n",
       "<table border=\"1\" class=\"dataframe\">\n",
       "  <thead>\n",
       "    <tr style=\"text-align: right;\">\n",
       "      <th></th>\n",
       "      <th>From Date</th>\n",
       "      <th>PM2.5</th>\n",
       "      <th>PM10</th>\n",
       "      <th>NO2</th>\n",
       "      <th>SO2</th>\n",
       "      <th>CO</th>\n",
       "      <th>Ozone</th>\n",
       "      <th>NH3</th>\n",
       "    </tr>\n",
       "  </thead>\n",
       "  <tbody>\n",
       "    <tr>\n",
       "      <th>0</th>\n",
       "      <td>2023-12-19 00:00:00</td>\n",
       "      <td>171.0</td>\n",
       "      <td>288.0</td>\n",
       "      <td>52.50</td>\n",
       "      <td>NaN</td>\n",
       "      <td>2.55</td>\n",
       "      <td>1.0</td>\n",
       "      <td>48.40</td>\n",
       "    </tr>\n",
       "    <tr>\n",
       "      <th>1</th>\n",
       "      <td>2023-12-19 00:30:00</td>\n",
       "      <td>159.5</td>\n",
       "      <td>249.5</td>\n",
       "      <td>43.40</td>\n",
       "      <td>0.7</td>\n",
       "      <td>2.35</td>\n",
       "      <td>1.6</td>\n",
       "      <td>46.05</td>\n",
       "    </tr>\n",
       "    <tr>\n",
       "      <th>2</th>\n",
       "      <td>2023-12-19 01:00:00</td>\n",
       "      <td>148.0</td>\n",
       "      <td>211.0</td>\n",
       "      <td>29.75</td>\n",
       "      <td>0.6</td>\n",
       "      <td>2.20</td>\n",
       "      <td>NaN</td>\n",
       "      <td>45.00</td>\n",
       "    </tr>\n",
       "    <tr>\n",
       "      <th>3</th>\n",
       "      <td>2023-12-19 01:30:00</td>\n",
       "      <td>140.5</td>\n",
       "      <td>210.5</td>\n",
       "      <td>24.35</td>\n",
       "      <td>0.1</td>\n",
       "      <td>2.10</td>\n",
       "      <td>4.6</td>\n",
       "      <td>48.50</td>\n",
       "    </tr>\n",
       "    <tr>\n",
       "      <th>4</th>\n",
       "      <td>2023-12-19 02:00:00</td>\n",
       "      <td>133.0</td>\n",
       "      <td>210.0</td>\n",
       "      <td>NaN</td>\n",
       "      <td>NaN</td>\n",
       "      <td>NaN</td>\n",
       "      <td>5.1</td>\n",
       "      <td>NaN</td>\n",
       "    </tr>\n",
       "  </tbody>\n",
       "</table>\n",
       "</div>"
      ],
      "text/plain": [
       "             From Date  PM2.5   PM10    NO2  SO2    CO  Ozone    NH3\n",
       "0  2023-12-19 00:00:00  171.0  288.0  52.50  NaN  2.55    1.0  48.40\n",
       "1  2023-12-19 00:30:00  159.5  249.5  43.40  0.7  2.35    1.6  46.05\n",
       "2  2023-12-19 01:00:00  148.0  211.0  29.75  0.6  2.20    NaN  45.00\n",
       "3  2023-12-19 01:30:00  140.5  210.5  24.35  0.1  2.10    4.6  48.50\n",
       "4  2023-12-19 02:00:00  133.0  210.0    NaN  NaN   NaN    5.1    NaN"
      ]
     },
     "execution_count": 7,
     "metadata": {},
     "output_type": "execute_result"
    }
   ],
   "source": [
    "df_new.head()"
   ]
  },
  {
   "cell_type": "code",
   "execution_count": 8,
   "metadata": {},
   "outputs": [
    {
     "data": {
      "text/plain": [
       "From Date    0\n",
       "PM2.5        0\n",
       "PM10         0\n",
       "NO2          1\n",
       "SO2          2\n",
       "CO           1\n",
       "Ozone        3\n",
       "NH3          1\n",
       "dtype: int64"
      ]
     },
     "execution_count": 8,
     "metadata": {},
     "output_type": "execute_result"
    }
   ],
   "source": [
    "df_new.isnull().sum()"
   ]
  },
  {
   "cell_type": "code",
   "execution_count": 9,
   "metadata": {},
   "outputs": [
    {
     "name": "stderr",
     "output_type": "stream",
     "text": [
      "C:\\Users\\jetha\\AppData\\Local\\Temp\\ipykernel_30420\\1349262358.py:1: FutureWarning: DataFrame.interpolate with object dtype is deprecated and will raise in a future version. Call obj.infer_objects(copy=False) before interpolating instead.\n",
      "  df_new.interpolate(inplace=True)\n"
     ]
    }
   ],
   "source": [
    "df_new.interpolate(inplace=True)\n",
    "df_new.to_csv('19thDEC.csv', index=False)\n"
   ]
  },
  {
   "cell_type": "markdown",
   "metadata": {},
   "source": [
    "### Arranging the parameters in an array for future use"
   ]
  },
  {
   "cell_type": "code",
   "execution_count": 10,
   "metadata": {},
   "outputs": [
    {
     "data": {
      "text/plain": [
       "[{'PM2.5': '171.0',\n",
       "  'PM10': '288.0',\n",
       "  'NO2': '52.5',\n",
       "  'SO2': '',\n",
       "  'CO': '2.55',\n",
       "  'Ozone': '1.0',\n",
       "  'NH3': '48.4'},\n",
       " {'PM2.5': '159.5',\n",
       "  'PM10': '249.5',\n",
       "  'NO2': '43.4',\n",
       "  'SO2': '0.7',\n",
       "  'CO': '2.35',\n",
       "  'Ozone': '1.6',\n",
       "  'NH3': '46.05'},\n",
       " {'PM2.5': '148.0',\n",
       "  'PM10': '211.0',\n",
       "  'NO2': '29.75',\n",
       "  'SO2': '0.6',\n",
       "  'CO': '2.2',\n",
       "  'Ozone': '3.0999999999999996',\n",
       "  'NH3': '45.0'},\n",
       " {'PM2.5': '140.5',\n",
       "  'PM10': '210.5',\n",
       "  'NO2': '24.35',\n",
       "  'SO2': '0.1',\n",
       "  'CO': '2.1',\n",
       "  'Ozone': '4.6',\n",
       "  'NH3': '48.5'},\n",
       " {'PM2.5': '133.0',\n",
       "  'PM10': '210.0',\n",
       "  'NO2': '24.275',\n",
       "  'SO2': '0.4',\n",
       "  'CO': '2.1500000000000004',\n",
       "  'Ozone': '5.1',\n",
       "  'NH3': '51.7'},\n",
       " {'PM2.5': '137.5',\n",
       "  'PM10': '205.0',\n",
       "  'NO2': '24.2',\n",
       "  'SO2': '0.7',\n",
       "  'CO': '2.2',\n",
       "  'Ozone': '5.85',\n",
       "  'NH3': '54.9'},\n",
       " {'PM2.5': '142.0',\n",
       "  'PM10': '200.0',\n",
       "  'NO2': '26.1',\n",
       "  'SO2': '0.4',\n",
       "  'CO': '2.1',\n",
       "  'Ozone': '5.45',\n",
       "  'NH3': '45.05'},\n",
       " {'PM2.5': '147.0',\n",
       "  'PM10': '209.0',\n",
       "  'NO2': '24.05',\n",
       "  'SO2': '0.3',\n",
       "  'CO': '2.05',\n",
       "  'Ozone': '4.3',\n",
       "  'NH3': '49.2'},\n",
       " {'PM2.5': '152.0',\n",
       "  'PM10': '218.0',\n",
       "  'NO2': '23.9',\n",
       "  'SO2': '1.0',\n",
       "  'CO': '2.05',\n",
       "  'Ozone': '5.05',\n",
       "  'NH3': '49.15'},\n",
       " {'PM2.5': '160.5',\n",
       "  'PM10': '256.5',\n",
       "  'NO2': '31.6',\n",
       "  'SO2': '1.75',\n",
       "  'CO': '2.05',\n",
       "  'Ozone': '3.25',\n",
       "  'NH3': '52.0'},\n",
       " {'PM2.5': '169.0',\n",
       "  'PM10': '295.0',\n",
       "  'NO2': '43.05',\n",
       "  'SO2': '1.45',\n",
       "  'CO': '2.3',\n",
       "  'Ozone': '1.5',\n",
       "  'NH3': '53.05'},\n",
       " {'PM2.5': '167.0',\n",
       "  'PM10': '294.0',\n",
       "  'NO2': '47.95',\n",
       "  'SO2': '1.85',\n",
       "  'CO': '2.3',\n",
       "  'Ozone': '0.85',\n",
       "  'NH3': '52.15'},\n",
       " {'PM2.5': '165.0',\n",
       "  'PM10': '293.0',\n",
       "  'NO2': '48.4',\n",
       "  'SO2': '1.65',\n",
       "  'CO': '2.5',\n",
       "  'Ozone': '0.55',\n",
       "  'NH3': '47.5'},\n",
       " {'PM2.5': '158.0',\n",
       "  'PM10': '304.5',\n",
       "  'NO2': '60.25',\n",
       "  'SO2': '2.35',\n",
       "  'CO': '2.7',\n",
       "  'Ozone': '0.4',\n",
       "  'NH3': '51.35'},\n",
       " {'PM2.5': '151.0',\n",
       "  'PM10': '316.0',\n",
       "  'NO2': '50.05',\n",
       "  'SO2': '2.15',\n",
       "  'CO': '2.8',\n",
       "  'Ozone': '0.525',\n",
       "  'NH3': '48.15'},\n",
       " {'PM2.5': '157.0',\n",
       "  'PM10': '322.0',\n",
       "  'NO2': '54.85',\n",
       "  'SO2': '1.5',\n",
       "  'CO': '2.75',\n",
       "  'Ozone': '0.65',\n",
       "  'NH3': '54.1'},\n",
       " {'PM2.5': '163.0',\n",
       "  'PM10': '328.0',\n",
       "  'NO2': '49.45',\n",
       "  'SO2': '1.2',\n",
       "  'CO': '3.05',\n",
       "  'Ozone': '0.35',\n",
       "  'NH3': '52.3'},\n",
       " {'PM2.5': '165.5',\n",
       "  'PM10': '386.0',\n",
       "  'NO2': '56.3',\n",
       "  'SO2': '2.6',\n",
       "  'CO': '3.15',\n",
       "  'Ozone': '0.65',\n",
       "  'NH3': '39.9'},\n",
       " {'PM2.5': '168.0',\n",
       "  'PM10': '444.0',\n",
       "  'NO2': '43.55',\n",
       "  'SO2': '2.95',\n",
       "  'CO': '2.7',\n",
       "  'Ozone': '1.3',\n",
       "  'NH3': '38.9'},\n",
       " {'PM2.5': '169.0',\n",
       "  'PM10': '396.5',\n",
       "  'NO2': '52.95',\n",
       "  'SO2': '3.55',\n",
       "  'CO': '2.7',\n",
       "  'Ozone': '1.95',\n",
       "  'NH3': '33.65'},\n",
       " {'PM2.5': '170.0',\n",
       "  'PM10': '349.0',\n",
       "  'NO2': '48.6',\n",
       "  'SO2': '4.2',\n",
       "  'CO': '2.7',\n",
       "  'Ozone': '3.55',\n",
       "  'NH3': '36.25'},\n",
       " {'PM2.5': '162.0',\n",
       "  'PM10': '336.0',\n",
       "  'NO2': '55.15',\n",
       "  'SO2': '4.35',\n",
       "  'CO': '2.7',\n",
       "  'Ozone': '3.4',\n",
       "  'NH3': '40.6'},\n",
       " {'PM2.5': '154.0',\n",
       "  'PM10': '323.0',\n",
       "  'NO2': '50.3',\n",
       "  'SO2': '4.3',\n",
       "  'CO': '2.45',\n",
       "  'Ozone': '4.85',\n",
       "  'NH3': '36.2'},\n",
       " {'PM2.5': '142.0',\n",
       "  'PM10': '333.0',\n",
       "  'NO2': '41.65',\n",
       "  'SO2': '3.0',\n",
       "  'CO': '2.35',\n",
       "  'Ozone': '8.7',\n",
       "  'NH3': '39.5'},\n",
       " {'PM2.5': '130.0',\n",
       "  'PM10': '343.0',\n",
       "  'NO2': '32.9',\n",
       "  'SO2': '4.15',\n",
       "  'CO': '2.15',\n",
       "  'Ozone': '9.05',\n",
       "  'NH3': '49.5'},\n",
       " {'PM2.5': '124.5',\n",
       "  'PM10': '343.5',\n",
       "  'NO2': '29.15',\n",
       "  'SO2': '4.35',\n",
       "  'CO': '2.05',\n",
       "  'Ozone': '12.45',\n",
       "  'NH3': '53.45'},\n",
       " {'PM2.5': '119.0',\n",
       "  'PM10': '344.0',\n",
       "  'NO2': '31.9',\n",
       "  'SO2': '3.55',\n",
       "  'CO': '1.95',\n",
       "  'Ozone': '12.45',\n",
       "  'NH3': '48.4'},\n",
       " {'PM2.5': '98.5',\n",
       "  'PM10': '328.5',\n",
       "  'NO2': '28.9',\n",
       "  'SO2': '3.35',\n",
       "  'CO': '1.95',\n",
       "  'Ozone': '12.65',\n",
       "  'NH3': '46.5'},\n",
       " {'PM2.5': '78.0',\n",
       "  'PM10': '313.0',\n",
       "  'NO2': '39.4',\n",
       "  'SO2': '2.35',\n",
       "  'CO': '1.95',\n",
       "  'Ozone': '9.3',\n",
       "  'NH3': '43.8'},\n",
       " {'PM2.5': '70.0',\n",
       "  'PM10': '266.0',\n",
       "  'NO2': '33.95',\n",
       "  'SO2': '1.0',\n",
       "  'CO': '2.0',\n",
       "  'Ozone': '10.75',\n",
       "  'NH3': '38.4'},\n",
       " {'PM2.5': '62.0',\n",
       "  'PM10': '219.0',\n",
       "  'NO2': '42.35',\n",
       "  'SO2': '2.05',\n",
       "  'CO': '2.1',\n",
       "  'Ozone': '11.05',\n",
       "  'NH3': '41.0'},\n",
       " {'PM2.5': '61.0',\n",
       "  'PM10': '209.0',\n",
       "  'NO2': '43.65',\n",
       "  'SO2': '2.55',\n",
       "  'CO': '2.2',\n",
       "  'Ozone': '8.6',\n",
       "  'NH3': '33.75'},\n",
       " {'PM2.5': '60.0',\n",
       "  'PM10': '199.0',\n",
       "  'NO2': '49.0',\n",
       "  'SO2': '2.5',\n",
       "  'CO': '2.2',\n",
       "  'Ozone': '8.8',\n",
       "  'NH3': '29.9'},\n",
       " {'PM2.5': '60.5',\n",
       "  'PM10': '197.0',\n",
       "  'NO2': '53.05',\n",
       "  'SO2': '2.7',\n",
       "  'CO': '2.25',\n",
       "  'Ozone': '6.35',\n",
       "  'NH3': '27.4'},\n",
       " {'PM2.5': '61.0',\n",
       "  'PM10': '195.0',\n",
       "  'NO2': '69.7',\n",
       "  'SO2': '3.2',\n",
       "  'CO': '2.6',\n",
       "  'Ozone': '1.45',\n",
       "  'NH3': '23.3'},\n",
       " {'PM2.5': '76.5',\n",
       "  'PM10': '258.5',\n",
       "  'NO2': '87.05',\n",
       "  'SO2': '4.45',\n",
       "  'CO': '3.15',\n",
       "  'Ozone': '0.2',\n",
       "  'NH3': '20.35'},\n",
       " {'PM2.5': '92.0',\n",
       "  'PM10': '322.0',\n",
       "  'NO2': '82.25',\n",
       "  'SO2': '4.35',\n",
       "  'CO': '3.2',\n",
       "  'Ozone': '1.5',\n",
       "  'NH3': '21.9'},\n",
       " {'PM2.5': '122.5',\n",
       "  'PM10': '383.0',\n",
       "  'NO2': '88.75',\n",
       "  'SO2': '4.0',\n",
       "  'CO': '3.75',\n",
       "  'Ozone': '0.7',\n",
       "  'NH3': '20.0'},\n",
       " {'PM2.5': '153.0',\n",
       "  'PM10': '444.0',\n",
       "  'NO2': '83.8',\n",
       "  'SO2': '3.7',\n",
       "  'CO': '3.9',\n",
       "  'Ozone': '0.95',\n",
       "  'NH3': '20.0'},\n",
       " {'PM2.5': '152.0',\n",
       "  'PM10': '438.5',\n",
       "  'NO2': '76.95',\n",
       "  'SO2': '2.8',\n",
       "  'CO': '3.95',\n",
       "  'Ozone': '0.4',\n",
       "  'NH3': '22.3'},\n",
       " {'PM2.5': '151.0',\n",
       "  'PM10': '433.0',\n",
       "  'NO2': '84.35',\n",
       "  'SO2': '4.65',\n",
       "  'CO': '4.6',\n",
       "  'Ozone': '0.6',\n",
       "  'NH3': '29.7'},\n",
       " {'PM2.5': '188.5',\n",
       "  'PM10': '498.0',\n",
       "  'NO2': '92.5',\n",
       "  'SO2': '5.1',\n",
       "  'CO': '4.65',\n",
       "  'Ozone': '0.6',\n",
       "  'NH3': '24.75'},\n",
       " {'PM2.5': '226.0',\n",
       "  'PM10': '563.0',\n",
       "  'NO2': '81.0',\n",
       "  'SO2': '5.05',\n",
       "  'CO': '4.4',\n",
       "  'Ozone': '1.0',\n",
       "  'NH3': '31.45'},\n",
       " {'PM2.5': '206.5',\n",
       "  'PM10': '517.5',\n",
       "  'NO2': '81.25',\n",
       "  'SO2': '4.05',\n",
       "  'CO': '4.1',\n",
       "  'Ozone': '0.925',\n",
       "  'NH3': '26.05'},\n",
       " {'PM2.5': '187.0',\n",
       "  'PM10': '472.0',\n",
       "  'NO2': '78.85',\n",
       "  'SO2': '4.65',\n",
       "  'CO': '3.85',\n",
       "  'Ozone': '0.85',\n",
       "  'NH3': '41.5'},\n",
       " {'PM2.5': '202.0',\n",
       "  'PM10': '490.0',\n",
       "  'NO2': '87.0',\n",
       "  'SO2': '3.9',\n",
       "  'CO': '4.1',\n",
       "  'Ozone': '0.5',\n",
       "  'NH3': '55.15'},\n",
       " {'PM2.5': '217.0',\n",
       "  'PM10': '508.0',\n",
       "  'NO2': '74.95',\n",
       "  'SO2': '3.55',\n",
       "  'CO': '3.65',\n",
       "  'Ozone': '0.5',\n",
       "  'NH3': '51.95'},\n",
       " {'PM2.5': '195.5',\n",
       "  'PM10': '446.5',\n",
       "  'NO2': '69.15',\n",
       "  'SO2': '2.8',\n",
       "  'CO': '2.9',\n",
       "  'Ozone': '0.4',\n",
       "  'NH3': '46.25'}]"
      ]
     },
     "execution_count": 10,
     "metadata": {},
     "output_type": "execute_result"
    }
   ],
   "source": [
    "import csv\n",
    "\n",
    "def read_filtered_data(filename):\n",
    "    data = []\n",
    "    with open(filename, 'r') as file:\n",
    "        reader = csv.DictReader(file)\n",
    "        for row in reader:\n",
    "            data.append({\n",
    "                'PM2.5': row['PM2.5'],\n",
    "                'PM10': row['PM10'],\n",
    "                'NO2': row['NO2'],\n",
    "                'SO2': row['SO2'],\n",
    "                'CO': row['CO'],\n",
    "                'Ozone': row['Ozone'],\n",
    "                'NH3':row['NH3']\n",
    "            })\n",
    "    return data\n",
    "\n",
    "filtered_data = read_filtered_data('19thDEC.csv')\n",
    "# len(filtered_data)\n",
    "filtered_data\n",
    "\n"
   ]
  },
  {
   "cell_type": "markdown",
   "metadata": {},
   "source": [
    "## Referring to https://pib.gov.in/newsite/printrelease.aspx?relid=110654 for PM2.5, PM10, NO2, SO2, CO, ozone"
   ]
  },
  {
   "cell_type": "markdown",
   "metadata": {},
   "source": [
    "### I = [(IHI - ILO) / (BPHI - BPLO)] * (C - BPLO) + ILO formula AQI subindex"
   ]
  },
  {
   "cell_type": "markdown",
   "metadata": {},
   "source": [
    "## Identifying BPHI and BPLO for each parameter"
   ]
  },
  {
   "cell_type": "code",
   "execution_count": 11,
   "metadata": {},
   "outputs": [],
   "source": [
    "max_values = df_new.max()\n",
    "min_values = df_new.min()\n",
    "\n",
    "pm25_max = max_values['PM2.5']\n",
    "pm25_min = min_values['PM2.5']\n",
    "pm10_max = max_values['PM10']\n",
    "pm10_min = min_values['PM10']\n",
    "no2_max = max_values['NO2']\n",
    "no2_min = min_values['NO2']\n",
    "so2_max = max_values['SO2']\n",
    "so2_min = min_values['SO2']\n",
    "co_max = max_values['CO']\n",
    "co_min = min_values['CO']\n",
    "ozone_max = max_values['Ozone']\n",
    "ozone_min = min_values['Ozone']\n",
    "nh3_max = max_values['NH3']\n",
    "nh3_min = min_values['NH3']\n"
   ]
  },
  {
   "cell_type": "code",
   "execution_count": 12,
   "metadata": {},
   "outputs": [
    {
     "name": "stdout",
     "output_type": "stream",
     "text": [
      "PM2.5 Max: 226.0 PM2.5 Min: 60.0 PM10 Max: 563.0 PM10 Min: 195.0 NO2 Max: 92.5 NO2 Min: 23.9 SO2 Max: 5.1 SO2 Min: 0.1 CO Max: 4.65 CO Min: 1.95 Ozone Max: 12.65 Ozone Min: 0.2 NH3 Max: 55.15 NH3 Min: 20.0\n"
     ]
    }
   ],
   "source": [
    "print('PM2.5 Max:', pm25_max, 'PM2.5 Min:', pm25_min, 'PM10 Max:', pm10_max, 'PM10 Min:', pm10_min, 'NO2 Max:', no2_max, 'NO2 Min:', no2_min, 'SO2 Max:', so2_max, 'SO2 Min:', so2_min, 'CO Max:', co_max, 'CO Min:', co_min, 'Ozone Max:', ozone_max, 'Ozone Min:', ozone_min,'NH3 Max:', nh3_max, 'NH3 Min:', nh3_min)"
   ]
  },
  {
   "cell_type": "markdown",
   "metadata": {},
   "source": [
    "### Identifying the average of each parameter for the day to know the IHi and ILo ranges"
   ]
  },
  {
   "cell_type": "code",
   "execution_count": 13,
   "metadata": {},
   "outputs": [],
   "source": [
    "average_pm25 = df_new['PM2.5'].mean()\n",
    "average_pm10 = df_new['PM10'].mean()\n",
    "average_no2 = df_new['NO2'].mean()\n",
    "average_so2 = df_new['SO2'].mean()\n",
    "\n",
    "average_nh3 = df_new['NH3'].mean()\n",
    "\n",
    "\n",
    "\n"
   ]
  },
  {
   "cell_type": "markdown",
   "metadata": {},
   "source": [
    "### Ozone is sampled every 8 hours, so the average of the 3 samples is taken for the day"
   ]
  },
  {
   "cell_type": "code",
   "execution_count": 14,
   "metadata": {},
   "outputs": [
    {
     "name": "stdout",
     "output_type": "stream",
     "text": [
      "            From Date     Ozone\n",
      "0 2023-12-19 00:00:00  2.735937\n",
      "1 2023-12-19 08:00:00  6.940625\n",
      "2 2023-12-19 16:00:00  1.607813\n"
     ]
    },
    {
     "name": "stderr",
     "output_type": "stream",
     "text": [
      "C:\\Users\\jetha\\AppData\\Local\\Temp\\ipykernel_30420\\3075675172.py:2: FutureWarning: 'H' is deprecated and will be removed in a future version, please use 'h' instead.\n",
      "  ozone_8hr_avg = df_new.set_index('From Date').resample('8H')['Ozone'].mean().reset_index()\n"
     ]
    }
   ],
   "source": [
    "df_new['From Date'] = pd.to_datetime(df_new['From Date'])\n",
    "ozone_8hr_avg = df_new.set_index('From Date').resample('8H')['Ozone'].mean().reset_index()\n",
    "print(ozone_8hr_avg)\n"
   ]
  },
  {
   "cell_type": "markdown",
   "metadata": {},
   "source": [
    "### CO is sampled every 8 hours, so the average of the 3 samples is taken for the day"
   ]
  },
  {
   "cell_type": "code",
   "execution_count": 15,
   "metadata": {},
   "outputs": [
    {
     "name": "stdout",
     "output_type": "stream",
     "text": [
      "            From Date        CO\n",
      "0 2023-12-19 00:00:00  2.321875\n",
      "1 2023-12-19 08:00:00  2.384375\n",
      "2 2023-12-19 16:00:00  3.578125\n"
     ]
    },
    {
     "name": "stderr",
     "output_type": "stream",
     "text": [
      "C:\\Users\\jetha\\AppData\\Local\\Temp\\ipykernel_30420\\3633202141.py:2: FutureWarning: 'H' is deprecated and will be removed in a future version, please use 'h' instead.\n",
      "  co_8hr_avg = df_new.set_index('From Date').resample('8H')['CO'].mean().reset_index()\n"
     ]
    }
   ],
   "source": [
    "df_new['From Date'] = pd.to_datetime(df_new['From Date'])\n",
    "co_8hr_avg = df_new.set_index('From Date').resample('8H')['CO'].mean().reset_index()\n",
    "print(co_8hr_avg)"
   ]
  },
  {
   "cell_type": "markdown",
   "metadata": {},
   "source": [
    "#### printing the average of each parameter for the day (except ozone and CO)"
   ]
  },
  {
   "cell_type": "code",
   "execution_count": 16,
   "metadata": {},
   "outputs": [
    {
     "name": "stdout",
     "output_type": "stream",
     "text": [
      "Avg PM2.5:  142.61458333333334 Avg PM10:  327.2604166666667 Avg NO2:  52.67552083333334 Avg SO2:  2.720212765957447 Avg NH3:  40.83958333333333\n"
     ]
    }
   ],
   "source": [
    "print(\"Avg PM2.5: \", average_pm25,\"Avg PM10: \", average_pm10,\"Avg NO2: \", average_no2,\"Avg SO2: \", average_so2,\"Avg NH3: \", average_nh3)"
   ]
  },
  {
   "cell_type": "markdown",
   "metadata": {},
   "source": [
    "### Calculating Subindex for each parameter"
   ]
  },
  {
   "cell_type": "code",
   "execution_count": 17,
   "metadata": {},
   "outputs": [
    {
     "name": "stdout",
     "output_type": "stream",
     "text": [
      "PM2.5: 317.58\n",
      "PM10: 277.26\n",
      "NO2: 65.66\n",
      "SO2: 3.4\n",
      "CO: 109.15\n",
      "O3: 3.75\n",
      "NH3: 10.21\n"
     ]
    }
   ],
   "source": [
    "def calculate_subindex(pollutant_data):\n",
    "    \"\"\"Calculates the AQI sub-index for a given pollutant.\n",
    "\n",
    "    Args:\n",
    "        pollutant_data: A dictionary containing the pollutant's concentration (C),\n",
    "                        breakpoint values (BPHI, BPLO), and index limits (IHI, ILo).\n",
    "\n",
    "    Returns:\n",
    "        The calculated AQI sub-index.\n",
    "    \"\"\"\n",
    "\n",
    "    C = pollutant_data[\"C\"]\n",
    "    BPHI = pollutant_data[\"BPHI\"]\n",
    "    BPLO = pollutant_data[\"BPLO\"]\n",
    "    IHi = pollutant_data[\"IHi\"]\n",
    "    ILo = pollutant_data[\"ILo\"]\n",
    "\n",
    "    # Use the AQI formula \n",
    "    subindex = ((IHi - ILo) / (BPHI - BPLO)) * (C - BPLO) + ILo\n",
    "\n",
    "    return round(subindex, 2)  # Round to two decimal places\n",
    "\n",
    "# Your manually observed data\n",
    "data = {\n",
    "    \"PM2.5\": {\n",
    "        \"C\": 142.61,\n",
    "        \"IHi\": 400,\n",
    "        \"ILo\": 301,\n",
    "        \"BPHI\": 250,\n",
    "        \"BPLO\": 121\n",
    "    },\n",
    "    \"PM10\": {\n",
    "        \"C\": 327.26,\n",
    "        \"IHi\": 300,\n",
    "        \"ILo\": 201,\n",
    "        \"BPHI\": 350,\n",
    "        \"BPLO\": 251\n",
    "    },\n",
    "    \"NO2\": {\n",
    "        \"C\": 52.67,\n",
    "        \"IHi\": 100,\n",
    "        \"ILo\": 51,\n",
    "        \"BPHI\": 80,\n",
    "        \"BPLO\": 41\n",
    "    },\n",
    "    \"SO2\": {\n",
    "        \"C\": 2.72,\n",
    "        \"IHi\": 50,\n",
    "        \"ILo\": 0,\n",
    "        \"BPHI\": 40,\n",
    "        \"BPLO\": 0\n",
    "    },\n",
    "    \"CO\": {\n",
    "        \"C\": 2.75,  # Assuming overall average\n",
    "        \"IHi\": 200,\n",
    "        \"ILo\": 101,\n",
    "        \"BPHI\": 10,\n",
    "        \"BPLO\": 2.1\n",
    "    },\n",
    "    \"O3\": {\n",
    "        \"C\": 3.75,  # Assuming overall average\n",
    "        \"IHi\": 50,\n",
    "        \"ILo\": 0,\n",
    "        \"BPHI\": 50,\n",
    "        \"BPLO\": 0\n",
    "    },\n",
    "    \"NH3\":{\n",
    "        \"C\":40.84,\n",
    "        \"IHi\":50,\n",
    "        \"ILo\":0,\n",
    "        \"BPHI\":200,\n",
    "        \"BPLO\":0\n",
    "    }\n",
    "}\n",
    "\n",
    "# Calculate and print the sub-indexes\n",
    "for pollutant, pollutant_data in data.items():\n",
    "    subindex = calculate_subindex(pollutant_data)\n",
    "    print(f\"{pollutant}: {subindex}\")\n"
   ]
  },
  {
   "cell_type": "markdown",
   "metadata": {},
   "source": [
    "We Observe that the PM2.5 and PM10 are the highest among the pollutants. So, we declare the AQI based on PM2.5"
   ]
  },
  {
   "cell_type": "markdown",
   "metadata": {},
   "source": [
    "## AQI for 19th Dec December 2023 is 317.58 (worst sub index is the AQI)"
   ]
  },
  {
   "cell_type": "markdown",
   "metadata": {},
   "source": [
    "## Simple analysis for 19th December 2023"
   ]
  },
  {
   "cell_type": "code",
   "execution_count": 18,
   "metadata": {},
   "outputs": [],
   "source": [
    "import matplotlib.pyplot as plt\n",
    "import seaborn as sns"
   ]
  },
  {
   "cell_type": "code",
   "execution_count": 19,
   "metadata": {},
   "outputs": [
    {
     "data": {
      "image/png": "[encoded data removed]",
      "text/plain": [
       "<Figure size 1000x600 with 1 Axes>"
      ]
     },
     "metadata": {},
     "output_type": "display_data"
    }
   ],
   "source": [
    "# Plotting line graph for each parameter\n",
    "plt.figure(figsize=(10, 6))\n",
    "\n",
    "# PM2.5\n",
    "plt.plot(df_new['From Date'], df_new['PM2.5'], label='PM2.5')\n",
    "\n",
    "# PM10\n",
    "plt.plot(df_new['From Date'], df_new['PM10'], label='PM10')\n",
    "\n",
    "# NO2\n",
    "plt.plot(df_new['From Date'], df_new['NO2'], label='NO2')\n",
    "\n",
    "# SO2\n",
    "plt.plot(df_new['From Date'], df_new['SO2'], label='SO2')\n",
    "\n",
    "# CO\n",
    "plt.plot(df_new['From Date'], df_new['CO'], label='CO')\n",
    "\n",
    "# Ozone\n",
    "plt.plot(df_new['From Date'], df_new['Ozone'], label='Ozone')\n",
    "\n",
    "# NH3\n",
    "plt.plot(df_new['From Date'], df_new['NH3'], label='NH3')\n",
    "\n",
    "# Set x-axis label\n",
    "plt.xlabel('Date')\n",
    "\n",
    "# Set y-axis label\n",
    "plt.ylabel('Concentration')\n",
    "\n",
    "# Set title\n",
    "plt.title('Line Graph of Parameters')\n",
    "\n",
    "# Add legend\n",
    "plt.legend()\n",
    "\n",
    "# Show the plot\n",
    "plt.show()\n"
   ]
  },
  {
   "cell_type": "code",
   "execution_count": null,
   "metadata": {},
   "outputs": [],
   "source": []
  }
 ],
 "metadata": {
  "kernelspec": {
   "display_name": "Python 3",
   "language": "python",
   "name": "python3"
  },
  "language_info": {
   "codemirror_mode": {
    "name": "ipython",
    "version": 3
   },
   "file_extension": ".py",
   "mimetype": "text/x-python",
   "name": "python",
   "nbconvert_exporter": "python",
   "pygments_lexer": "ipython3",
   "version": "3.11.6"
  }
 },
 "nbformat": 4,
 "nbformat_minor": 2
}
