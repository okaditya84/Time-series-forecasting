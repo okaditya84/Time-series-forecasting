{
 "cells": [
  {
   "cell_type": "code",
   "execution_count": 1,
   "metadata": {},
   "outputs": [],
   "source": [
    "import pandas as pd\n",
    "import numpy as np\n",
    "import matplotlib.pyplot as plt\n",
    "import seaborn as sns\n"
   ]
  },
  {
   "cell_type": "markdown",
   "metadata": {},
   "source": [
    "## Reading the extracted data"
   ]
  },
  {
   "cell_type": "code",
   "execution_count": 2,
   "metadata": {},
   "outputs": [
    {
     "name": "stdout",
     "output_type": "stream",
     "text": [
      "          From Date           To Date   PM2.5    PM10     NO    NO2     NOx  \\\n",
      "0  01-01-2017 00:00  01-01-2017 00:30  162.00  227.00  19.52  85.08  102.48   \n",
      "1  01-01-2017 00:30  01-01-2017 01:00  162.00  227.00  51.35  83.50  144.55   \n",
      "2  01-01-2017 01:00  01-01-2017 01:30  162.00  227.00  57.88  87.60  157.08   \n",
      "3  01-01-2017 01:30  01-01-2017 02:00  168.33  225.33  41.17  79.98  127.48   \n",
      "4  01-01-2017 02:00  01-01-2017 02:30  181.00  222.00  60.93  78.53  153.20   \n",
      "\n",
      "      NH3    SO2    CO  ...  Toluene  Temp     RH    WS      WD     SR     BP  \\\n",
      "0   86.52  21.33  1.95  ...    21.20   NaN  71.83  1.28  107.17  12.50  740.0   \n",
      "1  115.87  21.70  1.94  ...    17.70   NaN  71.83  0.57  147.33  12.00  740.0   \n",
      "2  123.35  22.18  2.20  ...    12.50   NaN  73.00  0.70  118.00  12.17  740.0   \n",
      "3  126.48  21.33  2.12  ...    18.65   NaN  73.50  0.32   89.00  12.17  740.0   \n",
      "4  122.20  21.77  2.00  ...    16.65   NaN  74.83  0.95   95.33  12.33  740.0   \n",
      "\n",
      "      AT  RF  TOT-RF  \n",
      "0  14.75 NaN     0.0  \n",
      "1  14.25 NaN     0.0  \n",
      "2  13.98 NaN     0.0  \n",
      "3  13.33 NaN     0.0  \n",
      "4  13.22 NaN     0.0  \n",
      "\n",
      "[5 rows x 22 columns]\n"
     ]
    }
   ],
   "source": [
    "df = pd.read_csv(r'C:\\Aditya\\Research Work\\extracted important\\AshokNagar_extracted.csv')\n",
    "print(df.head())\n"
   ]
  },
  {
   "cell_type": "markdown",
   "metadata": {},
   "source": [
    "# Filtering data for 31st December 2023 for prediction of AQI for 1st January 2024"
   ]
  },
  {
   "cell_type": "code",
   "execution_count": 3,
   "metadata": {},
   "outputs": [],
   "source": [
    "# Convert the 'From Date' column to datetime format\n",
    "df['From Date'] = pd.to_datetime(df['From Date'], format='%d-%m-%Y %H:%M')\n",
    "\n",
    "# Filter the dataframe for rows with 'From Date' equal to 1st January 2024\n",
    "filtered_df = df[df['From Date'].dt.date == pd.to_datetime('2023-12-31').date()]\n",
    "\n",
    "# Save the filtered dataframe to a separate file\n",
    "filtered_df.to_csv('filtered_data.csv', index=False)\n"
   ]
  },
  {
   "cell_type": "code",
   "execution_count": 4,
   "metadata": {},
   "outputs": [],
   "source": [
    "df_new = pd.read_csv('filtered_data.csv')"
   ]
  },
  {
   "cell_type": "markdown",
   "metadata": {},
   "source": [
    "### Keeping only those columns whose significane in AQI is known and best for prediction"
   ]
  },
  {
   "cell_type": "code",
   "execution_count": 5,
   "metadata": {},
   "outputs": [],
   "source": [
    "columns_to_keep = ['From Date','PM2.5', 'PM10', 'NO2', 'SO2', 'CO', 'Ozone','NH3']\n",
    "df_new = df_new[columns_to_keep]\n"
   ]
  },
  {
   "cell_type": "code",
   "execution_count": 6,
   "metadata": {},
   "outputs": [
    {
     "data": {
      "text/html": [
       "<div>\n",
       "<style scoped>\n",
       "    .dataframe tbody tr th:only-of-type {\n",
       "        vertical-align: middle;\n",
       "    }\n",
       "\n",
       "    .dataframe tbody tr th {\n",
       "        vertical-align: top;\n",
       "    }\n",
       "\n",
       "    .dataframe thead th {\n",
       "        text-align: right;\n",
       "    }\n",
       "</style>\n",
       "<table border=\"1\" class=\"dataframe\">\n",
       "  <thead>\n",
       "    <tr style=\"text-align: right;\">\n",
       "      <th></th>\n",
       "      <th>From Date</th>\n",
       "      <th>PM2.5</th>\n",
       "      <th>PM10</th>\n",
       "      <th>NO2</th>\n",
       "      <th>SO2</th>\n",
       "      <th>CO</th>\n",
       "      <th>Ozone</th>\n",
       "      <th>NH3</th>\n",
       "    </tr>\n",
       "  </thead>\n",
       "  <tbody>\n",
       "    <tr>\n",
       "      <th>0</th>\n",
       "      <td>2023-12-31 00:00:00</td>\n",
       "      <td>262.0</td>\n",
       "      <td>381.0</td>\n",
       "      <td>54.70</td>\n",
       "      <td>7.35</td>\n",
       "      <td>2.03</td>\n",
       "      <td>15.15</td>\n",
       "      <td>22.00</td>\n",
       "    </tr>\n",
       "    <tr>\n",
       "      <th>1</th>\n",
       "      <td>2023-12-31 00:30:00</td>\n",
       "      <td>260.0</td>\n",
       "      <td>375.5</td>\n",
       "      <td>71.20</td>\n",
       "      <td>6.15</td>\n",
       "      <td>2.17</td>\n",
       "      <td>15.10</td>\n",
       "      <td>29.55</td>\n",
       "    </tr>\n",
       "    <tr>\n",
       "      <th>2</th>\n",
       "      <td>2023-12-31 01:00:00</td>\n",
       "      <td>258.0</td>\n",
       "      <td>370.0</td>\n",
       "      <td>78.00</td>\n",
       "      <td>8.10</td>\n",
       "      <td>2.04</td>\n",
       "      <td>15.85</td>\n",
       "      <td>26.80</td>\n",
       "    </tr>\n",
       "    <tr>\n",
       "      <th>3</th>\n",
       "      <td>2023-12-31 01:30:00</td>\n",
       "      <td>251.5</td>\n",
       "      <td>367.0</td>\n",
       "      <td>68.45</td>\n",
       "      <td>6.70</td>\n",
       "      <td>2.05</td>\n",
       "      <td>22.65</td>\n",
       "      <td>30.25</td>\n",
       "    </tr>\n",
       "    <tr>\n",
       "      <th>4</th>\n",
       "      <td>2023-12-31 02:00:00</td>\n",
       "      <td>245.0</td>\n",
       "      <td>364.0</td>\n",
       "      <td>65.25</td>\n",
       "      <td>5.30</td>\n",
       "      <td>1.96</td>\n",
       "      <td>27.25</td>\n",
       "      <td>35.55</td>\n",
       "    </tr>\n",
       "  </tbody>\n",
       "</table>\n",
       "</div>"
      ],
      "text/plain": [
       "             From Date  PM2.5   PM10    NO2   SO2    CO  Ozone    NH3\n",
       "0  2023-12-31 00:00:00  262.0  381.0  54.70  7.35  2.03  15.15  22.00\n",
       "1  2023-12-31 00:30:00  260.0  375.5  71.20  6.15  2.17  15.10  29.55\n",
       "2  2023-12-31 01:00:00  258.0  370.0  78.00  8.10  2.04  15.85  26.80\n",
       "3  2023-12-31 01:30:00  251.5  367.0  68.45  6.70  2.05  22.65  30.25\n",
       "4  2023-12-31 02:00:00  245.0  364.0  65.25  5.30  1.96  27.25  35.55"
      ]
     },
     "execution_count": 6,
     "metadata": {},
     "output_type": "execute_result"
    }
   ],
   "source": [
    "df_new.head()"
   ]
  },
  {
   "cell_type": "markdown",
   "metadata": {},
   "source": [
    "### Arranging the parameters in an array for future use"
   ]
  },
  {
   "cell_type": "code",
   "execution_count": 7,
   "metadata": {},
   "outputs": [
    {
     "data": {
      "text/plain": [
       "[{'PM2.5': '262.0',\n",
       "  'PM10': '381.0',\n",
       "  'NO2': '54.7',\n",
       "  'SO2': '7.35',\n",
       "  'CO': '2.03',\n",
       "  'Ozone': '15.15',\n",
       "  'NH3': '22.0'},\n",
       " {'PM2.5': '260.0',\n",
       "  'PM10': '375.5',\n",
       "  'NO2': '71.2',\n",
       "  'SO2': '6.15',\n",
       "  'CO': '2.17',\n",
       "  'Ozone': '15.1',\n",
       "  'NH3': '29.55'},\n",
       " {'PM2.5': '258.0',\n",
       "  'PM10': '370.0',\n",
       "  'NO2': '78.0',\n",
       "  'SO2': '8.1',\n",
       "  'CO': '2.04',\n",
       "  'Ozone': '15.85',\n",
       "  'NH3': '26.8'},\n",
       " {'PM2.5': '251.5',\n",
       "  'PM10': '367.0',\n",
       "  'NO2': '68.45',\n",
       "  'SO2': '6.7',\n",
       "  'CO': '2.05',\n",
       "  'Ozone': '22.65',\n",
       "  'NH3': '30.25'},\n",
       " {'PM2.5': '245.0',\n",
       "  'PM10': '364.0',\n",
       "  'NO2': '65.25',\n",
       "  'SO2': '5.3',\n",
       "  'CO': '1.96',\n",
       "  'Ozone': '27.25',\n",
       "  'NH3': '35.55'},\n",
       " {'PM2.5': '242.0',\n",
       "  'PM10': '351.5',\n",
       "  'NO2': '62.75',\n",
       "  'SO2': '2.65',\n",
       "  'CO': '1.96',\n",
       "  'Ozone': '29.3',\n",
       "  'NH3': '42.9'},\n",
       " {'PM2.5': '239.0',\n",
       "  'PM10': '339.0',\n",
       "  'NO2': '62.5',\n",
       "  'SO2': '4.15',\n",
       "  'CO': '1.91',\n",
       "  'Ozone': '29.3',\n",
       "  'NH3': '35.25'},\n",
       " {'PM2.5': '239.0',\n",
       "  'PM10': '342.0',\n",
       "  'NO2': '61.65',\n",
       "  'SO2': '3.95',\n",
       "  'CO': '1.88',\n",
       "  'Ozone': '28.75',\n",
       "  'NH3': '31.8'},\n",
       " {'PM2.5': '239.0',\n",
       "  'PM10': '345.0',\n",
       "  'NO2': '61.95',\n",
       "  'SO2': '3.9',\n",
       "  'CO': '1.79',\n",
       "  'Ozone': '27.45',\n",
       "  'NH3': '29.95'},\n",
       " {'PM2.5': '247.0',\n",
       "  'PM10': '351.0',\n",
       "  'NO2': '62.3',\n",
       "  'SO2': '5.1',\n",
       "  'CO': '1.81',\n",
       "  'Ozone': '27.0',\n",
       "  'NH3': '28.2'},\n",
       " {'PM2.5': '255.0',\n",
       "  'PM10': '357.0',\n",
       "  'NO2': '61.6',\n",
       "  'SO2': '7.1',\n",
       "  'CO': '1.92',\n",
       "  'Ozone': '27.6',\n",
       "  'NH3': '26.65'},\n",
       " {'PM2.5': '255.0',\n",
       "  'PM10': '375.0',\n",
       "  'NO2': '73.3',\n",
       "  'SO2': '7.75',\n",
       "  'CO': '1.83',\n",
       "  'Ozone': '29.7',\n",
       "  'NH3': '26.55'},\n",
       " {'PM2.5': '255.0',\n",
       "  'PM10': '393.0',\n",
       "  'NO2': '61.85',\n",
       "  'SO2': '8.1',\n",
       "  'CO': '1.88',\n",
       "  'Ozone': '30.75',\n",
       "  'NH3': '21.15'},\n",
       " {'PM2.5': '253.5',\n",
       "  'PM10': '388.0',\n",
       "  'NO2': '63.25',\n",
       "  'SO2': '9.45',\n",
       "  'CO': '1.79',\n",
       "  'Ozone': '28.9',\n",
       "  'NH3': '18.6'},\n",
       " {'PM2.5': '252.0',\n",
       "  'PM10': '383.0',\n",
       "  'NO2': '65.75',\n",
       "  'SO2': '10.35',\n",
       "  'CO': '1.75',\n",
       "  'Ozone': '25.95',\n",
       "  'NH3': '20.2'},\n",
       " {'PM2.5': '243.0',\n",
       "  'PM10': '373.5',\n",
       "  'NO2': '64.35',\n",
       "  'SO2': '9.55',\n",
       "  'CO': '1.73',\n",
       "  'Ozone': '24.35',\n",
       "  'NH3': '22.3'},\n",
       " {'PM2.5': '234.0',\n",
       "  'PM10': '364.0',\n",
       "  'NO2': '65.0',\n",
       "  'SO2': '9.05',\n",
       "  'CO': '1.66',\n",
       "  'Ozone': '22.5',\n",
       "  'NH3': '23.35'},\n",
       " {'PM2.5': '222.0',\n",
       "  'PM10': '349.5',\n",
       "  'NO2': '62.35',\n",
       "  'SO2': '8.05',\n",
       "  'CO': '2.01',\n",
       "  'Ozone': '20.7',\n",
       "  'NH3': '23.5'},\n",
       " {'PM2.5': '210.0',\n",
       "  'PM10': '335.0',\n",
       "  'NO2': '58.25',\n",
       "  'SO2': '8.2',\n",
       "  'CO': '1.96',\n",
       "  'Ozone': '24.45',\n",
       "  'NH3': '23.55'},\n",
       " {'PM2.5': '217.5',\n",
       "  'PM10': '346.0',\n",
       "  'NO2': '51.2',\n",
       "  'SO2': '7.65',\n",
       "  'CO': '1.92',\n",
       "  'Ozone': '28.15',\n",
       "  'NH3': '25.65'},\n",
       " {'PM2.5': '225.0',\n",
       "  'PM10': '357.0',\n",
       "  'NO2': '57.25',\n",
       "  'SO2': '6.95',\n",
       "  'CO': '2.13',\n",
       "  'Ozone': '26.7',\n",
       "  'NH3': '29.15'},\n",
       " {'PM2.5': '225.5',\n",
       "  'PM10': '355.0',\n",
       "  'NO2': '58.15',\n",
       "  'SO2': '5.15',\n",
       "  'CO': '2.16',\n",
       "  'Ozone': '25.05',\n",
       "  'NH3': '34.8'},\n",
       " {'PM2.5': '226.0',\n",
       "  'PM10': '353.0',\n",
       "  'NO2': '56.5',\n",
       "  'SO2': '5.0',\n",
       "  'CO': '2.2',\n",
       "  'Ozone': '18.3',\n",
       "  'NH3': '31.4'},\n",
       " {'PM2.5': '245.5',\n",
       "  'PM10': '375.5',\n",
       "  'NO2': '72.7',\n",
       "  'SO2': '6.0',\n",
       "  'CO': '2.22',\n",
       "  'Ozone': '15.2',\n",
       "  'NH3': '27.55'},\n",
       " {'PM2.5': '265.0',\n",
       "  'PM10': '398.0',\n",
       "  'NO2': '70.35',\n",
       "  'SO2': '6.25',\n",
       "  'CO': '2.21',\n",
       "  'Ozone': '15.35',\n",
       "  'NH3': '27.0'},\n",
       " {'PM2.5': '268.0',\n",
       "  'PM10': '407.0',\n",
       "  'NO2': '77.3',\n",
       "  'SO2': '8.75',\n",
       "  'CO': '2.1',\n",
       "  'Ozone': '15.95',\n",
       "  'NH3': '28.05'},\n",
       " {'PM2.5': '271.0',\n",
       "  'PM10': '416.0',\n",
       "  'NO2': '77.3',\n",
       "  'SO2': '9.5',\n",
       "  'CO': '2.24',\n",
       "  'Ozone': '15.9',\n",
       "  'NH3': '24.2'},\n",
       " {'PM2.5': '290.0',\n",
       "  'PM10': '437.5',\n",
       "  'NO2': '79.1',\n",
       "  'SO2': '9.95',\n",
       "  'CO': '2.26',\n",
       "  'Ozone': '15.6',\n",
       "  'NH3': '24.65'},\n",
       " {'PM2.5': '309.0',\n",
       "  'PM10': '459.0',\n",
       "  'NO2': '78.0',\n",
       "  'SO2': '14.65',\n",
       "  'CO': '2.17',\n",
       "  'Ozone': '15.95',\n",
       "  'NH3': '22.6'},\n",
       " {'PM2.5': '302.5',\n",
       "  'PM10': '460.5',\n",
       "  'NO2': '85.55',\n",
       "  'SO2': '21.1',\n",
       "  'CO': '2.12',\n",
       "  'Ozone': '15.65',\n",
       "  'NH3': '20.5'},\n",
       " {'PM2.5': '296.0',\n",
       "  'PM10': '462.0',\n",
       "  'NO2': '84.55',\n",
       "  'SO2': '28.45',\n",
       "  'CO': '2.12',\n",
       "  'Ozone': '16.0',\n",
       "  'NH3': '21.05'},\n",
       " {'PM2.5': '289.0',\n",
       "  'PM10': '459.0',\n",
       "  'NO2': '87.0',\n",
       "  'SO2': '29.9',\n",
       "  'CO': '2.17',\n",
       "  'Ozone': '16.1',\n",
       "  'NH3': '19.15'},\n",
       " {'PM2.5': '282.0',\n",
       "  'PM10': '456.0',\n",
       "  'NO2': '89.95',\n",
       "  'SO2': '31.8',\n",
       "  'CO': '2.17',\n",
       "  'Ozone': '18.3',\n",
       "  'NH3': '22.75'},\n",
       " {'PM2.5': '284.0',\n",
       "  'PM10': '459.0',\n",
       "  'NO2': '86.3',\n",
       "  'SO2': '29.15',\n",
       "  'CO': '2.04',\n",
       "  'Ozone': '19.65',\n",
       "  'NH3': '21.4'},\n",
       " {'PM2.5': '286.0',\n",
       "  'PM10': '462.0',\n",
       "  'NO2': '87.1',\n",
       "  'SO2': '21.35',\n",
       "  'CO': '1.95',\n",
       "  'Ozone': '16.25',\n",
       "  'NH3': '22.65'},\n",
       " {'PM2.5': '259.0',\n",
       "  'PM10': '432.5',\n",
       "  'NO2': '75.35',\n",
       "  'SO2': '17.2',\n",
       "  'CO': '1.71',\n",
       "  'Ozone': '15.85',\n",
       "  'NH3': '24.05'},\n",
       " {'PM2.5': '232.0',\n",
       "  'PM10': '403.0',\n",
       "  'NO2': '75.75',\n",
       "  'SO2': '14.95',\n",
       "  'CO': '1.54',\n",
       "  'Ozone': '17.05',\n",
       "  'NH3': '29.55'},\n",
       " {'PM2.5': '229.0',\n",
       "  'PM10': '368.0',\n",
       "  'NO2': '71.9',\n",
       "  'SO2': '9.6',\n",
       "  'CO': '1.61',\n",
       "  'Ozone': '18.6',\n",
       "  'NH3': '33.45'},\n",
       " {'PM2.5': '226.0',\n",
       "  'PM10': '333.0',\n",
       "  'NO2': '59.8',\n",
       "  'SO2': '6.05',\n",
       "  'CO': '1.59',\n",
       "  'Ozone': '16.95',\n",
       "  'NH3': '24.9'},\n",
       " {'PM2.5': '208.5',\n",
       "  'PM10': '306.0',\n",
       "  'NO2': '59.15',\n",
       "  'SO2': '6.15',\n",
       "  'CO': '1.5',\n",
       "  'Ozone': '16.95',\n",
       "  'NH3': '23.6'},\n",
       " {'PM2.5': '191.0',\n",
       "  'PM10': '279.0',\n",
       "  'NO2': '51.25',\n",
       "  'SO2': '4.0',\n",
       "  'CO': '1.69',\n",
       "  'Ozone': '17.4',\n",
       "  'NH3': '22.0'},\n",
       " {'PM2.5': '179.5',\n",
       "  'PM10': '272.0',\n",
       "  'NO2': '63.8',\n",
       "  'SO2': '5.25',\n",
       "  'CO': '1.98',\n",
       "  'Ozone': '19.7',\n",
       "  'NH3': '21.55'},\n",
       " {'PM2.5': '168.0',\n",
       "  'PM10': '265.0',\n",
       "  'NO2': '52.05',\n",
       "  'SO2': '3.95',\n",
       "  'CO': '1.98',\n",
       "  'Ozone': '17.7',\n",
       "  'NH3': '19.75'},\n",
       " {'PM2.5': '166.5',\n",
       "  'PM10': '256.5',\n",
       "  'NO2': '52.75',\n",
       "  'SO2': '2.7',\n",
       "  'CO': '1.85',\n",
       "  'Ozone': '16.6',\n",
       "  'NH3': '15.8'},\n",
       " {'PM2.5': '165.0',\n",
       "  'PM10': '248.0',\n",
       "  'NO2': '50.15',\n",
       "  'SO2': '3.15',\n",
       "  'CO': '1.65',\n",
       "  'Ozone': '17.15',\n",
       "  'NH3': '16.8'},\n",
       " {'PM2.5': '161.5',\n",
       "  'PM10': '250.0',\n",
       "  'NO2': '57.45',\n",
       "  'SO2': '5.6',\n",
       "  'CO': '1.6',\n",
       "  'Ozone': '18.05',\n",
       "  'NH3': '10.95'},\n",
       " {'PM2.5': '158.0',\n",
       "  'PM10': '252.0',\n",
       "  'NO2': '47.55',\n",
       "  'SO2': '4.65',\n",
       "  'CO': '1.58',\n",
       "  'Ozone': '20.55',\n",
       "  'NH3': '15.7'},\n",
       " {'PM2.5': '158.0',\n",
       "  'PM10': '252.0',\n",
       "  'NO2': '43.1',\n",
       "  'SO2': '3.2',\n",
       "  'CO': '1.56',\n",
       "  'Ozone': '21.1',\n",
       "  'NH3': '15.2'}]"
      ]
     },
     "execution_count": 7,
     "metadata": {},
     "output_type": "execute_result"
    }
   ],
   "source": [
    "import csv\n",
    "\n",
    "def read_filtered_data(filename):\n",
    "    data = []\n",
    "    with open(filename, 'r') as file:\n",
    "        reader = csv.DictReader(file)\n",
    "        for row in reader:\n",
    "            data.append({\n",
    "                'PM2.5': row['PM2.5'],\n",
    "                'PM10': row['PM10'],\n",
    "                'NO2': row['NO2'],\n",
    "                'SO2': row['SO2'],\n",
    "                'CO': row['CO'],\n",
    "                'Ozone': row['Ozone'],\n",
    "                'NH3':row['NH3']\n",
    "            })\n",
    "    return data\n",
    "\n",
    "filtered_data = read_filtered_data('filtered_data.csv')\n",
    "# len(filtered_data)\n",
    "filtered_data\n",
    "\n"
   ]
  },
  {
   "cell_type": "markdown",
   "metadata": {},
   "source": [
    "## Referring to https://pib.gov.in/newsite/printrelease.aspx?relid=110654 for PM2.5, PM10, NO2, SO2, CO, ozone"
   ]
  },
  {
   "cell_type": "markdown",
   "metadata": {},
   "source": [
    "### I = [(IHI - ILO) / (BPHI - BPLO)] * (C - BPLO) + ILO formula AQI subindex"
   ]
  },
  {
   "cell_type": "markdown",
   "metadata": {},
   "source": [
    "## Identifying BPHI and BPLO for each parameter"
   ]
  },
  {
   "cell_type": "code",
   "execution_count": 8,
   "metadata": {},
   "outputs": [],
   "source": [
    "max_values = df_new.max()\n",
    "min_values = df_new.min()\n",
    "\n",
    "pm25_max = max_values['PM2.5']\n",
    "pm25_min = min_values['PM2.5']\n",
    "pm10_max = max_values['PM10']\n",
    "pm10_min = min_values['PM10']\n",
    "no2_max = max_values['NO2']\n",
    "no2_min = min_values['NO2']\n",
    "so2_max = max_values['SO2']\n",
    "so2_min = min_values['SO2']\n",
    "co_max = max_values['CO']\n",
    "co_min = min_values['CO']\n",
    "ozone_max = max_values['Ozone']\n",
    "ozone_min = min_values['Ozone']\n",
    "nh3_max = max_values['NH3']\n",
    "nh3_min = min_values['NH3']\n"
   ]
  },
  {
   "cell_type": "code",
   "execution_count": 9,
   "metadata": {},
   "outputs": [
    {
     "name": "stdout",
     "output_type": "stream",
     "text": [
      "PM2.5 Max: 309.0 PM2.5 Min: 158.0 PM10 Max: 462.0 PM10 Min: 248.0 NO2 Max: 89.95 NO2 Min: 43.1 SO2 Max: 31.8 SO2 Min: 2.65 CO Max: 2.26 CO Min: 1.5 Ozone Max: 30.75 Ozone Min: 15.1 NH3 Max: 42.9 NH3 Min: 10.95\n"
     ]
    }
   ],
   "source": [
    "print('PM2.5 Max:', pm25_max, 'PM2.5 Min:', pm25_min, 'PM10 Max:', pm10_max, 'PM10 Min:', pm10_min, 'NO2 Max:', no2_max, 'NO2 Min:', no2_min, 'SO2 Max:', so2_max, 'SO2 Min:', so2_min, 'CO Max:', co_max, 'CO Min:', co_min, 'Ozone Max:', ozone_max, 'Ozone Min:', ozone_min,'NH3 Max:', nh3_max, 'NH3 Min:', nh3_min)"
   ]
  },
  {
   "cell_type": "markdown",
   "metadata": {},
   "source": [
    "### Identifying the average of each parameter for the day to know the IHi and ILo ranges"
   ]
  },
  {
   "cell_type": "code",
   "execution_count": 10,
   "metadata": {},
   "outputs": [],
   "source": [
    "average_pm25 = df_new['PM2.5'].mean()\n",
    "average_pm10 = df_new['PM10'].mean()\n",
    "average_no2 = df_new['NO2'].mean()\n",
    "average_so2 = df_new['SO2'].mean()\n",
    "\n",
    "average_nh3 = df_new['NH3'].mean()\n",
    "\n",
    "\n",
    "\n"
   ]
  },
  {
   "cell_type": "markdown",
   "metadata": {},
   "source": [
    "### Ozone is sampled every 8 hours, so the average of the 3 samples is taken for the day"
   ]
  },
  {
   "cell_type": "code",
   "execution_count": 11,
   "metadata": {},
   "outputs": [
    {
     "name": "stdout",
     "output_type": "stream",
     "text": [
      "            From Date      Ozone\n",
      "0 2023-12-31 00:00:00  25.315625\n",
      "1 2023-12-31 08:00:00  19.221875\n",
      "2 2023-12-31 16:00:00  17.990625\n"
     ]
    },
    {
     "name": "stderr",
     "output_type": "stream",
     "text": [
      "C:\\Users\\jetha\\AppData\\Local\\Temp\\ipykernel_30608\\3075675172.py:2: FutureWarning: 'H' is deprecated and will be removed in a future version, please use 'h' instead.\n",
      "  ozone_8hr_avg = df_new.set_index('From Date').resample('8H')['Ozone'].mean().reset_index()\n"
     ]
    }
   ],
   "source": [
    "df_new['From Date'] = pd.to_datetime(df_new['From Date'])\n",
    "ozone_8hr_avg = df_new.set_index('From Date').resample('8H')['Ozone'].mean().reset_index()\n",
    "print(ozone_8hr_avg)\n"
   ]
  },
  {
   "cell_type": "markdown",
   "metadata": {},
   "source": [
    "### CO is sampled every 8 hours, so the average of the 3 samples is taken for the day"
   ]
  },
  {
   "cell_type": "code",
   "execution_count": 12,
   "metadata": {},
   "outputs": [
    {
     "name": "stdout",
     "output_type": "stream",
     "text": [
      "            From Date        CO\n",
      "0 2023-12-31 00:00:00  1.906250\n",
      "1 2023-12-31 08:00:00  2.103125\n",
      "2 2023-12-31 16:00:00  1.750000\n"
     ]
    },
    {
     "name": "stderr",
     "output_type": "stream",
     "text": [
      "C:\\Users\\jetha\\AppData\\Local\\Temp\\ipykernel_30608\\3633202141.py:2: FutureWarning: 'H' is deprecated and will be removed in a future version, please use 'h' instead.\n",
      "  co_8hr_avg = df_new.set_index('From Date').resample('8H')['CO'].mean().reset_index()\n"
     ]
    }
   ],
   "source": [
    "df_new['From Date'] = pd.to_datetime(df_new['From Date'])\n",
    "co_8hr_avg = df_new.set_index('From Date').resample('8H')['CO'].mean().reset_index()\n",
    "print(co_8hr_avg)"
   ]
  },
  {
   "cell_type": "markdown",
   "metadata": {},
   "source": [
    "#### printing the average of each parameter for the day (except ozone and CO)"
   ]
  },
  {
   "cell_type": "code",
   "execution_count": 13,
   "metadata": {},
   "outputs": [
    {
     "name": "stdout",
     "output_type": "stream",
     "text": [
      "Avg PM2.5:  238.45833333333334 Avg PM10:  364.2395833333333 Avg NO2:  66.30833333333334 Avg SO2:  9.5625 Avg NH3:  24.87395833333333\n"
     ]
    }
   ],
   "source": [
    "print(\"Avg PM2.5: \", average_pm25,\"Avg PM10: \", average_pm10,\"Avg NO2: \", average_no2,\"Avg SO2: \", average_so2,\"Avg NH3: \", average_nh3)"
   ]
  },
  {
   "cell_type": "markdown",
   "metadata": {},
   "source": [
    "Based on the average and the AQI range suggested from the above link the formula variables are as follows:\n",
    "For PM2.5 : 238.458, IHi=400, ILo=301, BPHI=250, BPLO=121\n",
    "For PM10 : 364.239, IHi=400, ILo=301, BPHI=430, BPLO=351\n",
    "For NO2 : 66.308, IHi=100, ILo=51, BPHI=80, BPLO=41\n",
    "For SO2 : 9.562, IHi=50, ILo=0, BPHI=40, BPLO=0\n",
    "For CO : (Overall AVG: 1.919), IHi=100, ILo=51, BPHI=2, BPLO=1.1\n",
    "For Ozone : (Overall AVG: 20.84), IHi=50, ILo=0, BPHI=50, BPLO=0"
   ]
  },
  {
   "cell_type": "markdown",
   "metadata": {},
   "source": [
    "### Calculating Subindex for each parameter"
   ]
  },
  {
   "cell_type": "code",
   "execution_count": 14,
   "metadata": {},
   "outputs": [
    {
     "name": "stdout",
     "output_type": "stream",
     "text": [
      "PM2.5: 391.14\n",
      "PM10: 317.59\n",
      "NO2: 82.8\n",
      "SO2: 11.95\n",
      "CO: 95.59\n",
      "O3: 20.84\n"
     ]
    }
   ],
   "source": [
    "def calculate_subindex(pollutant_data):\n",
    "    \"\"\"Calculates the AQI sub-index for a given pollutant.\n",
    "\n",
    "    Args:\n",
    "        pollutant_data: A dictionary containing the pollutant's concentration (C),\n",
    "                        breakpoint values (BPHI, BPLO), and index limits (IHI, ILo).\n",
    "\n",
    "    Returns:\n",
    "        The calculated AQI sub-index.\n",
    "    \"\"\"\n",
    "\n",
    "    C = pollutant_data[\"C\"]\n",
    "    BPHI = pollutant_data[\"BPHI\"]\n",
    "    BPLO = pollutant_data[\"BPLO\"]\n",
    "    IHi = pollutant_data[\"IHi\"]\n",
    "    ILo = pollutant_data[\"ILo\"]\n",
    "\n",
    "    # Use the AQI formula \n",
    "    subindex = ((IHi - ILo) / (BPHI - BPLO)) * (C - BPLO) + ILo\n",
    "\n",
    "    return round(subindex, 2)  # Round to two decimal places\n",
    "\n",
    "# Your manually observed data\n",
    "data = {\n",
    "    \"PM2.5\": {\n",
    "        \"C\": 238.458,\n",
    "        \"IHi\": 400,\n",
    "        \"ILo\": 301,\n",
    "        \"BPHI\": 250,\n",
    "        \"BPLO\": 121\n",
    "    },\n",
    "    \"PM10\": {\n",
    "        \"C\": 364.239,\n",
    "        \"IHi\": 400,\n",
    "        \"ILo\": 301,\n",
    "        \"BPHI\": 430,\n",
    "        \"BPLO\": 351\n",
    "    },\n",
    "    \"NO2\": {\n",
    "        \"C\": 66.308,\n",
    "        \"IHi\": 100,\n",
    "        \"ILo\": 51,\n",
    "        \"BPHI\": 80,\n",
    "        \"BPLO\": 41\n",
    "    },\n",
    "    \"SO2\": {\n",
    "        \"C\": 9.562,\n",
    "        \"IHi\": 50,\n",
    "        \"ILo\": 0,\n",
    "        \"BPHI\": 40,\n",
    "        \"BPLO\": 0\n",
    "    },\n",
    "    \"CO\": {\n",
    "        \"C\": 1.919,  # Assuming overall average\n",
    "        \"IHi\": 100,\n",
    "        \"ILo\": 51,\n",
    "        \"BPHI\": 2,\n",
    "        \"BPLO\": 1.1\n",
    "    },\n",
    "    \"O3\": {\n",
    "        \"C\": 20.84,  # Assuming overall average\n",
    "        \"IHi\": 50,\n",
    "        \"ILo\": 0,\n",
    "        \"BPHI\": 50,\n",
    "        \"BPLO\": 0\n",
    "    }\n",
    "}\n",
    "\n",
    "# Calculate and print the sub-indexes\n",
    "for pollutant, pollutant_data in data.items():\n",
    "    subindex = calculate_subindex(pollutant_data)\n",
    "    print(f\"{pollutant}: {subindex}\")\n"
   ]
  },
  {
   "cell_type": "markdown",
   "metadata": {},
   "source": [
    "We Observe that the PM2.5 and PM10 are the highest among the pollutants. So, we declare the AQI based on PM2.5"
   ]
  },
  {
   "cell_type": "markdown",
   "metadata": {},
   "source": [
    "## AQI for 31st December 2023 is 391.14"
   ]
  },
  {
   "cell_type": "code",
   "execution_count": 15,
   "metadata": {},
   "outputs": [
    {
     "data": {
      "image/png": "[encoded data removed]",
      "text/plain": [
       "<Figure size 1000x600 with 1 Axes>"
      ]
     },
     "metadata": {},
     "output_type": "display_data"
    }
   ],
   "source": [
    "# Plotting line graph for each parameter\n",
    "plt.figure(figsize=(10, 6))\n",
    "\n",
    "# PM2.5\n",
    "plt.plot(df_new['From Date'], df_new['PM2.5'], label='PM2.5')\n",
    "\n",
    "# PM10\n",
    "plt.plot(df_new['From Date'], df_new['PM10'], label='PM10')\n",
    "\n",
    "# NO2\n",
    "plt.plot(df_new['From Date'], df_new['NO2'], label='NO2')\n",
    "\n",
    "# SO2\n",
    "plt.plot(df_new['From Date'], df_new['SO2'], label='SO2')\n",
    "\n",
    "# CO\n",
    "plt.plot(df_new['From Date'], df_new['CO'], label='CO')\n",
    "\n",
    "# Ozone\n",
    "plt.plot(df_new['From Date'], df_new['Ozone'], label='Ozone')\n",
    "\n",
    "# NH3\n",
    "plt.plot(df_new['From Date'], df_new['NH3'], label='NH3')\n",
    "\n",
    "# Set x-axis label\n",
    "plt.xlabel('Date')\n",
    "\n",
    "# Set y-axis label\n",
    "plt.ylabel('Concentration')\n",
    "\n",
    "# Set title\n",
    "plt.title('Line Graph of Parameters')\n",
    "\n",
    "# Add legend\n",
    "plt.legend()\n",
    "\n",
    "# Show the plot\n",
    "plt.show()\n"
   ]
  }
 ],
 "metadata": {
  "kernelspec": {
   "display_name": "Python 3",
   "language": "python",
   "name": "python3"
  },
  "language_info": {
   "codemirror_mode": {
    "name": "ipython",
    "version": 3
   },
   "file_extension": ".py",
   "mimetype": "text/x-python",
   "name": "python",
   "nbconvert_exporter": "python",
   "pygments_lexer": "ipython3",
   "version": "3.11.6"
  }
 },
 "nbformat": 4,
 "nbformat_minor": 2
}
